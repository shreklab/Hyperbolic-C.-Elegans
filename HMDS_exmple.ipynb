{
 "cells": [
  {
   "cell_type": "code",
   "execution_count": 2,
   "id": "dbb521f1",
   "metadata": {},
   "outputs": [],
   "source": [
    "'''\n",
    "Method developed by Anoop Praturu: https://www.biorxiv.org/content/10.1101/2022.10.12.511940v1\n",
    "Code from Anoop Praturu on Oct 2021\n",
    "Move from pystan to cmdstanpy based on suggestions by Milo Julis\n",
    "Edited by Mingchen Yao on May 26 2023\n",
    "Applied to C. elegans data by Iulia Rusu \n",
    "'''\n",
    "\n",
    "import numpy as np\n",
    "import diptest  \n",
    "import matplotlib.pyplot as plt\n",
    "import cmdstanpy as stan\n",
    "import scipy.stats as stats\n",
    "import pickle\n",
    "import seaborn as sns\n",
    "%matplotlib inline\n",
    "\n",
    "import pandas as pd\n",
    "\n",
    "import plotly.express as px\n",
    "from matplotlib import rcParams"
   ]
  },
  {
   "cell_type": "code",
   "execution_count": null,
   "id": "73e1d8b7",
   "metadata": {},
   "outputs": [],
   "source": [
    "# # if there is anything wrong with comstan: re-install it. Otherwise don't run this cell\n",
    "# from cmdstanpy import install_cmdstan\n",
    "# install_cmdstan(overwrite = True)"
   ]
  },
  {
   "cell_type": "code",
   "execution_count": 2,
   "id": "e6c280a4",
   "metadata": {},
   "outputs": [
    {
     "name": "stdout",
     "output_type": "stream",
     "text": [
      "Python 3.10.14\n"
     ]
    }
   ],
   "source": [
    "!python --version"
   ]
  },
  {
   "cell_type": "markdown",
   "id": "93f95b0f",
   "metadata": {},
   "source": [
    "# Functions for Generating Synthetic Data"
   ]
  },
  {
   "cell_type": "code",
   "execution_count": 2,
   "id": "f16c0781",
   "metadata": {},
   "outputs": [],
   "source": [
    "#returns hyperbolic distance between vectors in poincare ball\n",
    "def poincare_dist(v1, v2):\n",
    "    sq = np.sum(np.square(v1-v2))\n",
    "    r1 = np.sum(np.square(v1))\n",
    "    r2 = np.sum(np.square(v2))\n",
    "    inv = 2.0*sq/((1.0-r1)*(1.0-r2))\n",
    "    return np.arccosh(1.0 + inv)\n",
    "\n",
    "#return NxN symmetric distance matrix from poincare coordinates\n",
    "def get_dmat(p_coords):\n",
    "    N = p_coords.shape[0]\n",
    "    dists = np.zeros((N, N))\n",
    "    \n",
    "    for i in np.arange(N):\n",
    "        for j in np.arange(i+1, N):\n",
    "            dists[i][j] = poincare_dist(p_coords[i], p_coords[j])\n",
    "            dists[j][i] = dists[i][j]\n",
    "    return dists"
   ]
  },
  {
   "cell_type": "code",
   "execution_count": null,
   "id": "f942b036",
   "metadata": {},
   "outputs": [],
   "source": [
    "#generate 100 data points uniformly distributed in 5 dimensional hyperbolic space of radius R=4\n",
    "dim=5; R=4.0;\n",
    "n=100\n",
    "dirs = stats.norm.rvs(size=(n, dim))\n",
    "dirs = (dirs.T/np.sqrt(np.sum(np.square(dirs), axis=1))).T\n",
    "U = stats.uniform.rvs(size=n)\n",
    "rs_p = np.tanh(np.log((1-np.exp(-R))/np.exp(-R)*(U) + 1.0)/2.0)\n",
    "p_coords = rs_p.reshape(-1,1)*dirs\n",
    "\n",
    "#add noise to the computed distance matrix to simulate a more realistic dataset\n",
    "mat_dim = get_dmat(p_coords) + 0.05*R*stats.norm.rvs(size=(n,n))\n",
    "for i in np.arange(n):\n",
    "    for j in np.arange(i+1, n):\n",
    "        mat_dim[j][i] = mat_dim[i][j]\n",
    "mat_dim = 2.0*mat_dim/np.max(mat_dim)"
   ]
  },
  {
   "cell_type": "markdown",
   "id": "abf7bb38",
   "metadata": {},
   "source": [
    "# Code for fitting Bayesian Model"
   ]
  },
  {
   "cell_type": "code",
   "execution_count": 3,
   "id": "0a7b4752",
   "metadata": {},
   "outputs": [],
   "source": [
    "path = '/Users/iuliarusu/Documents/Sharpee/HMDS-example/model/'\n",
    "ltz_m = stan.CmdStanModel(stan_file=path+'lorentz.stan')"
   ]
  },
  {
   "cell_type": "markdown",
   "id": "4ea2a559",
   "metadata": {},
   "source": [
    "## Run the optimizer given the synthetically generated Data set"
   ]
  },
  {
   "cell_type": "code",
   "execution_count": 4,
   "id": "905f2220",
   "metadata": {},
   "outputs": [],
   "source": [
    "#import data, compute distance matrix \n",
    "\n",
    "bacteria = np.load('/Users/iuliarusu/Documents/Sharpee/ProcAiryData/Yfull_op50_SF.npz')\n",
    "bacteria_arr_0= bacteria['arr_1']\n",
    "bacteria_0_df = pd.DataFrame(bacteria_arr_0)\n",
    "corr_matrix = bacteria_0_df.corr()\n",
    "distance_matrix = 1 - corr_matrix\n",
    "distance_matrix_squaredp = (1 - corr_matrix**2) * 2"
   ]
  },
  {
   "cell_type": "code",
   "execution_count": 6,
   "id": "026c955b",
   "metadata": {},
   "outputs": [
    {
     "data": {
      "text/plain": [
       "(135, 135)"
      ]
     },
     "execution_count": 6,
     "metadata": {},
     "output_type": "execute_result"
    }
   ],
   "source": [
    "distance_matrix_squaredp.shape"
   ]
  },
  {
   "cell_type": "code",
   "execution_count": 110,
   "id": "4af01585",
   "metadata": {},
   "outputs": [],
   "source": [
    "#all worms\n",
    "\n",
    "all_worms = np.concatenate([bacteria['arr_0'], bacteria['arr_1'], bacteria['arr_2'],\n",
    "                            bacteria['arr_3'], bacteria['arr_4'], bacteria['arr_5'],\n",
    "                            bacteria['arr_6']], axis=1)\n",
    "\n",
    "all_worms_df = pd.DataFrame(all_worms)\n",
    "corr_matrix_all = all_worms_df.corr()\n",
    "distance_matrix_all = 1 - corr_matrix_all\n",
    "distance_matrix_all_squaredp = 1 - corr_matrix_all**2"
   ]
  },
  {
   "cell_type": "code",
   "execution_count": 67,
   "id": "296fa3ef",
   "metadata": {},
   "outputs": [
    {
     "data": {
      "text/plain": [
       "133"
      ]
     },
     "execution_count": 67,
     "metadata": {},
     "output_type": "execute_result"
    }
   ],
   "source": [
    "len(bacteria['arr_0'].T)"
   ]
  },
  {
   "cell_type": "code",
   "execution_count": 68,
   "id": "1cf87336",
   "metadata": {},
   "outputs": [],
   "source": [
    "column = [0] * len(bacteria['arr_0'].T) + [1] * len(bacteria['arr_1'].T) + [2] * len(bacteria['arr_2'].T) + [3] * len(bacteria['arr_3'].T) + [4] * len(bacteria['arr_4'].T) + [5] * len(bacteria['arr_5'].T) + [6] * len(bacteria['arr_6'].T)"
   ]
  },
  {
   "cell_type": "code",
   "execution_count": 6,
   "id": "fc8e0c0c",
   "metadata": {},
   "outputs": [
    {
     "data": {
      "text/plain": [
       "(135, 135)"
      ]
     },
     "execution_count": 6,
     "metadata": {},
     "output_type": "execute_result"
    }
   ],
   "source": [
    "distance_matrix.shape"
   ]
  },
  {
   "cell_type": "code",
   "execution_count": 1,
   "id": "8db4cafc",
   "metadata": {},
   "outputs": [
    {
     "ename": "NameError",
     "evalue": "name 'distance_matrix_squaredp' is not defined",
     "output_type": "error",
     "traceback": [
      "\u001b[0;31m---------------------------------------------------------------------------\u001b[0m",
      "\u001b[0;31mNameError\u001b[0m                                 Traceback (most recent call last)",
      "Cell \u001b[0;32mIn[1], line 4\u001b[0m\n\u001b[1;32m      1\u001b[0m \u001b[38;5;66;03m#dictionary to specify input to simulation\u001b[39;00m\n\u001b[1;32m      2\u001b[0m \n\u001b[1;32m      3\u001b[0m \u001b[38;5;66;03m# dat={'N':100, 'D':5, 'deltaij':mat_dim}\u001b[39;00m\n\u001b[0;32m----> 4\u001b[0m dat \u001b[38;5;241m=\u001b[39m {\u001b[38;5;124m'\u001b[39m\u001b[38;5;124mN\u001b[39m\u001b[38;5;124m'\u001b[39m: \u001b[38;5;241m135\u001b[39m , \u001b[38;5;124m'\u001b[39m\u001b[38;5;124mD\u001b[39m\u001b[38;5;124m'\u001b[39m: \u001b[38;5;241m3\u001b[39m , \u001b[38;5;124m'\u001b[39m\u001b[38;5;124mdeltaij\u001b[39m\u001b[38;5;124m'\u001b[39m:\u001b[43mdistance_matrix_squaredp\u001b[49m}\n\u001b[1;32m      5\u001b[0m \u001b[38;5;66;03m#run optimizer\u001b[39;00m\n\u001b[1;32m      6\u001b[0m model \u001b[38;5;241m=\u001b[39m ltz_m\u001b[38;5;241m.\u001b[39moptimize(data\u001b[38;5;241m=\u001b[39mdat, \u001b[38;5;28miter\u001b[39m\u001b[38;5;241m=\u001b[39m\u001b[38;5;241m250000\u001b[39m, algorithm\u001b[38;5;241m=\u001b[39m\u001b[38;5;124m'\u001b[39m\u001b[38;5;124mLBFGS\u001b[39m\u001b[38;5;124m'\u001b[39m, tol_rel_grad\u001b[38;5;241m=\u001b[39m\u001b[38;5;241m1e2\u001b[39m)\n",
      "\u001b[0;31mNameError\u001b[0m: name 'distance_matrix_squaredp' is not defined"
     ]
    }
   ],
   "source": [
    "#dictionary to specify input to simulation\n",
    "\n",
    "# dat={'N':100, 'D':5, 'deltaij':mat_dim}\n",
    "dat = {'N': 135 , 'D': 3 , 'deltaij':distance_matrix_squaredp}\n",
    "#run optimizer\n",
    "model = ltz_m.optimize(data=dat, iter=250000, algorithm='LBFGS', tol_rel_grad=1e2)"
   ]
  },
  {
   "cell_type": "code",
   "execution_count": 75,
   "id": "a880a1ed",
   "metadata": {},
   "outputs": [
    {
     "name": "stderr",
     "output_type": "stream",
     "text": [
      "23:24:24 - cmdstanpy - WARNING - The default behavior of CmdStanMLE.stan_variable() will change in a future release to always return a numpy.ndarray, even for scalar variables.\n"
     ]
    }
   ],
   "source": [
    "# build result \n",
    "hyp_emb = {'euc':model.euc, 'sig':model.sig, 'lambda':model.stan_variable('lambda')}\n",
    "\n",
    "# # and save\n",
    "# fdname = './emb5d.pickle'\n",
    "# with open(fdname,'wb') as file:\n",
    "#     pickle.dump(hyp_emb, file,  protocol=pickle.HIGHEST_PROTOCOL)"
   ]
  },
  {
   "cell_type": "code",
   "execution_count": null,
   "id": "d4ef1297",
   "metadata": {},
   "outputs": [],
   "source": [
    "# # load existing results\n",
    "# fdname = './emb5d.pickle'\n",
    "# with open(fdname, 'rb') as file:\n",
    "#     hyp_emb = pickle.load(file)"
   ]
  },
  {
   "cell_type": "markdown",
   "id": "0f4a4cf9",
   "metadata": {},
   "source": [
    "## Some utility functions for post-processing the simulation output"
   ]
  },
  {
   "cell_type": "code",
   "execution_count": 76,
   "id": "1f033e62",
   "metadata": {},
   "outputs": [],
   "source": [
    "def d_lor(t1, t2, E1, E2):\n",
    "    return np.arccosh(t1*t2 - np.dot(E1, E2))\n",
    "\n",
    "#returns embedding distance matrix from optimization fit\n",
    "def get_embed_dmat(fit):\n",
    "    N = fit['euc'].shape[0]\n",
    "    fit_ts = np.sqrt(1.0 + np.sum(np.square(fit['euc']), axis=1))\n",
    "\n",
    "    fit_mat = np.zeros((N, N))\n",
    "\n",
    "    for i in np.arange(N):\n",
    "        for j in np.arange(i+1,N):\n",
    "            fit_mat[i][j] = d_lor(fit_ts[i], fit_ts[j], fit['euc'][i], fit['euc'][j])\n",
    "            fit_mat[j][i] = fit_mat[i][j]\n",
    "            \n",
    "    return fit_mat\n",
    "\n",
    "#return poincare coordinates\n",
    "def get_poin(fit):\n",
    "    ts = np.sqrt(1.0 + np.sum(np.square(fit['euc']), axis=1))\n",
    "    return (fit['euc'].T / (ts + 1)).T"
   ]
  },
  {
   "cell_type": "code",
   "execution_count": 77,
   "id": "dac6394d",
   "metadata": {},
   "outputs": [],
   "source": [
    "def process_sim(fit):\n",
    "    fit['emb_mat'] = get_embed_dmat(fit)/fit['lambda']\n",
    "    fit['pcoords'] = get_poin(fit)\n",
    "    fit['radii'] = 2.0*np.arctanh(np.sqrt(np.sum(np.square(fit['pcoords']), axis=1)))"
   ]
  },
  {
   "cell_type": "code",
   "execution_count": 78,
   "id": "d651f3ad",
   "metadata": {},
   "outputs": [],
   "source": [
    "#run this function after running the optimizer to process the output data into more usable forms\n",
    "process_sim(hyp_emb)"
   ]
  },
  {
   "cell_type": "code",
   "execution_count": 79,
   "id": "8d3b4c66",
   "metadata": {},
   "outputs": [
    {
     "data": {
      "text/plain": [
       "0.00197762"
      ]
     },
     "execution_count": 79,
     "metadata": {},
     "output_type": "execute_result"
    }
   ],
   "source": [
    "#curvature (or radius)\n",
    "hyp_emb['lambda']"
   ]
  },
  {
   "cell_type": "code",
   "execution_count": 80,
   "id": "fa441edb",
   "metadata": {},
   "outputs": [
    {
     "data": {
      "text/plain": [
       "array([[ 0.06191983, -0.30218844, -0.31469111],\n",
       "       [ 0.06130275, -0.30244834, -0.31542374],\n",
       "       [ 0.06191511, -0.30220203, -0.31470165],\n",
       "       [ 0.06195626, -0.30218523, -0.31475013],\n",
       "       [ 0.06151173, -0.30192458, -0.31524925],\n",
       "       [ 0.06198254, -0.30218204, -0.31474615],\n",
       "       [ 0.06148702, -0.30195988, -0.31459423],\n",
       "       [ 0.06080774, -0.30206934, -0.31532831],\n",
       "       [ 0.06073975, -0.30216294, -0.31535159],\n",
       "       [ 0.06070733, -0.30211232, -0.31531721],\n",
       "       [ 0.0612574 , -0.30246837, -0.31541038],\n",
       "       [ 0.06100286, -0.3020591 , -0.31540678],\n",
       "       [ 0.06070021, -0.30219681, -0.31530274],\n",
       "       [ 0.06178956, -0.30211325, -0.31455772],\n",
       "       [ 0.06086633, -0.30223217, -0.3153853 ],\n",
       "       [ 0.06109011, -0.30238108, -0.31495786],\n",
       "       [ 0.06086979, -0.30239333, -0.31530128],\n",
       "       [ 0.06180685, -0.30216138, -0.31465081],\n",
       "       [ 0.0617513 , -0.30235029, -0.31529684],\n",
       "       [ 0.06178988, -0.30234018, -0.31521748],\n",
       "       [ 0.06192559, -0.30219193, -0.3147009 ],\n",
       "       [ 0.06173934, -0.30187411, -0.31530299],\n",
       "       [ 0.06167676, -0.30189949, -0.31471739],\n",
       "       [ 0.06133338, -0.3017061 , -0.31491149],\n",
       "       [ 0.06191567, -0.30218291, -0.31469167],\n",
       "       [ 0.06103844, -0.30215553, -0.31543105],\n",
       "       [ 0.06196468, -0.30216   , -0.31476525],\n",
       "       [ 0.06109373, -0.30255408, -0.31453786],\n",
       "       [ 0.06141886, -0.30188049, -0.31474356],\n",
       "       [ 0.06065039, -0.30230702, -0.31468572],\n",
       "       [ 0.06112089, -0.30184111, -0.31526395],\n",
       "       [ 0.06191322, -0.30202505, -0.31495254],\n",
       "       [ 0.0613058 , -0.30187615, -0.31531225],\n",
       "       [ 0.06185313, -0.30237198, -0.31484935],\n",
       "       [ 0.06198593, -0.30217439, -0.31474941],\n",
       "       [ 0.06103019, -0.30221909, -0.31541801],\n",
       "       [ 0.06148814, -0.30221561, -0.31450986],\n",
       "       [ 0.0614504 , -0.30193466, -0.31527878],\n",
       "       [ 0.06113418, -0.30205449, -0.31543589],\n",
       "       [ 0.06185572, -0.30198017, -0.31487954],\n",
       "       [ 0.06180071, -0.30213592, -0.31520381],\n",
       "       [ 0.06068784, -0.3021184 , -0.31531841],\n",
       "       [ 0.06142659, -0.30173146, -0.31491702],\n",
       "       [ 0.06172205, -0.30195741, -0.31448239],\n",
       "       [ 0.06173167, -0.30174473, -0.31491146],\n",
       "       [ 0.06181193, -0.30240859, -0.31460765],\n",
       "       [ 0.06160318, -0.30250704, -0.31465559],\n",
       "       [ 0.06129195, -0.30238572, -0.31543411],\n",
       "       [ 0.06163128, -0.3018538 , -0.31508675],\n",
       "       [ 0.0614979 , -0.30170266, -0.31500671],\n",
       "       [ 0.06077881, -0.30211735, -0.31537103],\n",
       "       [ 0.06136428, -0.30214005, -0.31540725],\n",
       "       [ 0.06107657, -0.30229333, -0.31508361],\n",
       "       [ 0.06069485, -0.30200958, -0.31465366],\n",
       "       [ 0.06190309, -0.30241795, -0.31478664],\n",
       "       [ 0.06166987, -0.30178383, -0.31525655],\n",
       "       [ 0.06074497, -0.30217494, -0.31533943],\n",
       "       [ 0.0617372 , -0.30219631, -0.31447089],\n",
       "       [ 0.06135442, -0.30197514, -0.31535332],\n",
       "       [ 0.06138888, -0.30241388, -0.31542406],\n",
       "       [ 0.06176585, -0.30211573, -0.31527619],\n",
       "       [ 0.061776  , -0.30209641, -0.31461546],\n",
       "       [ 0.06147201, -0.30242689, -0.31446139],\n",
       "       [ 0.061548  , -0.30217874, -0.31460447],\n",
       "       [ 0.06101734, -0.30262905, -0.31511908],\n",
       "       [ 0.06140075, -0.30220805, -0.31427224],\n",
       "       [ 0.06182086, -0.30221773, -0.31459592],\n",
       "       [ 0.06149397, -0.3025226 , -0.31529925],\n",
       "       [ 0.06089157, -0.30247935, -0.31499399],\n",
       "       [ 0.06156942, -0.30227609, -0.3146816 ],\n",
       "       [ 0.06158969, -0.3020053 , -0.31444899],\n",
       "       [ 0.06110181, -0.3022179 , -0.31443657],\n",
       "       [ 0.06163173, -0.30225419, -0.31515303],\n",
       "       [ 0.06175234, -0.30187772, -0.31481919],\n",
       "       [ 0.06162035, -0.30190556, -0.31513231],\n",
       "       [ 0.06191421, -0.30238224, -0.31498853],\n",
       "       [ 0.0617558 , -0.30235721, -0.31443679],\n",
       "       [ 0.06173209, -0.30248541, -0.31484319],\n",
       "       [ 0.06170804, -0.30197166, -0.31495445],\n",
       "       [ 0.06162768, -0.30248361, -0.31510964],\n",
       "       [ 0.06148635, -0.30169529, -0.31492932],\n",
       "       [ 0.06167639, -0.30224856, -0.31528417],\n",
       "       [ 0.0616684 , -0.30210532, -0.31522152],\n",
       "       [ 0.06159878, -0.30203018, -0.31528079],\n",
       "       [ 0.06181023, -0.30203197, -0.31477125],\n",
       "       [ 0.06197872, -0.30221741, -0.31492486],\n",
       "       [ 0.06116799, -0.30177266, -0.31462993],\n",
       "       [ 0.06080398, -0.30217241, -0.31538546],\n",
       "       [ 0.06143564, -0.30204491, -0.31546615],\n",
       "       [ 0.06164795, -0.30196657, -0.31530646],\n",
       "       [ 0.06160322, -0.30259095, -0.31512606],\n",
       "       [ 0.06162561, -0.30253245, -0.31524805],\n",
       "       [ 0.06081091, -0.30240763, -0.31452952],\n",
       "       [ 0.06155806, -0.30266859, -0.31512016],\n",
       "       [ 0.06180865, -0.30239038, -0.31505216],\n",
       "       [ 0.06176732, -0.30240603, -0.31520036],\n",
       "       [ 0.06067765, -0.30223908, -0.31480817],\n",
       "       [ 0.06170577, -0.30229178, -0.31520409],\n",
       "       [ 0.06185656, -0.30219003, -0.31492736],\n",
       "       [ 0.06122484, -0.30266267, -0.31506952],\n",
       "       [ 0.06107385, -0.30199272, -0.31514265],\n",
       "       [ 0.06115997, -0.30183808, -0.31493069],\n",
       "       [ 0.0615799 , -0.3027551 , -0.31479659],\n",
       "       [ 0.06148444, -0.30253073, -0.31493918],\n",
       "       [ 0.0614602 , -0.3027667 , -0.3146849 ],\n",
       "       [ 0.06150975, -0.30234563, -0.31532225],\n",
       "       [ 0.06131885, -0.30253904, -0.31524992],\n",
       "       [ 0.06076129, -0.30194388, -0.3149175 ],\n",
       "       [ 0.06071016, -0.30213089, -0.31529871],\n",
       "       [ 0.06162805, -0.3020172 , -0.31490592],\n",
       "       [ 0.06173336, -0.30237334, -0.31511614],\n",
       "       [ 0.06131784, -0.30272439, -0.31465638],\n",
       "       [ 0.06195735, -0.30215078, -0.3148436 ],\n",
       "       [ 0.06095003, -0.30205717, -0.31542015],\n",
       "       [ 0.06139421, -0.30195363, -0.315435  ],\n",
       "       [ 0.06144086, -0.30222398, -0.31538611],\n",
       "       [ 0.06168017, -0.30171726, -0.31501307],\n",
       "       [ 0.06176202, -0.30211133, -0.31495208],\n",
       "       [ 0.06149564, -0.30204614, -0.31528627],\n",
       "       [ 0.06076033, -0.30225453, -0.31456337],\n",
       "       [ 0.06071713, -0.30213386, -0.31454483],\n",
       "       [ 0.06179105, -0.3020435 , -0.31510247],\n",
       "       [ 0.06089907, -0.30188967, -0.3147404 ],\n",
       "       [ 0.06166057, -0.30214318, -0.31520722],\n",
       "       [ 0.0612627 , -0.30264901, -0.31521795],\n",
       "       [ 0.06133373, -0.30224872, -0.31544205],\n",
       "       [ 0.06119252, -0.30171666, -0.31489938],\n",
       "       [ 0.0617776 , -0.30208026, -0.31508989],\n",
       "       [ 0.06127653, -0.3026321 , -0.31484197],\n",
       "       [ 0.06153765, -0.30188827, -0.31511713],\n",
       "       [ 0.06108454, -0.3017595 , -0.3151402 ],\n",
       "       [ 0.06138366, -0.30170166, -0.3151264 ],\n",
       "       [ 0.06161438, -0.30215201, -0.31532201],\n",
       "       [ 0.06156445, -0.30205596, -0.31527303],\n",
       "       [ 0.06175804, -0.30215196, -0.315163  ]])"
      ]
     },
     "execution_count": 80,
     "metadata": {},
     "output_type": "execute_result"
    }
   ],
   "source": [
    "#poincare embedding coordinates\n",
    "hyp_emb['pcoords']"
   ]
  },
  {
   "cell_type": "code",
   "execution_count": 109,
   "id": "e0b8162b",
   "metadata": {},
   "outputs": [
    {
     "data": {
      "text/plain": [
       "dict_keys(['euc', 'sig', 'lambda', 'emb_mat', 'pcoords', 'radii'])"
      ]
     },
     "execution_count": 109,
     "metadata": {},
     "output_type": "execute_result"
    }
   ],
   "source": [
    "#emebdding uncertainties\n",
    "hyp_emb.keys()"
   ]
  },
  {
   "cell_type": "markdown",
   "id": "ffa4a0f2",
   "metadata": {},
   "source": [
    "# Shepard Diagram"
   ]
  },
  {
   "cell_type": "code",
   "execution_count": null,
   "id": "f81c51fd",
   "metadata": {},
   "outputs": [],
   "source": [
    "distance_matrix"
   ]
  },
  {
   "cell_type": "code",
   "execution_count": 82,
   "id": "b68aec1a",
   "metadata": {},
   "outputs": [],
   "source": [
    "rcParams['font.family'] = 'sans-serif'\n",
    "rcParams['font.sans-serif'] = 'Arial'"
   ]
  },
  {
   "cell_type": "code",
   "execution_count": 85,
   "id": "c3ed0ead",
   "metadata": {},
   "outputs": [
    {
     "data": {
      "text/plain": [
       "Text(0.5, 0, 'Embedding Uncertainties')"
      ]
     },
     "execution_count": 85,
     "metadata": {},
     "output_type": "execute_result"
    },
    {
     "data": {
      "image/png": "[encoded data removed]",
      "text/plain": [
       "<Figure size 1500x750 with 2 Axes>"
      ]
     },
     "metadata": {},
     "output_type": "display_data"
    }
   ],
   "source": [
    "fig, ax = plt.subplots(1, 2, figsize=(15,7.5))\n",
    "\n",
    "ax[0].scatter(distance_matrix.values[np.triu_indices(135, k=1)], hyp_emb['emb_mat'][np.triu_indices(135, k=1)], c='cornflowerblue') #cornflowerblue, lightcoral\n",
    "ax[0].plot(np.arange(3), np.arange(3), c='black', linewidth=5, alpha=0.5)\n",
    "\n",
    "ax[0].set_xlabel('Original Distances', fontsize=20)\n",
    "ax[0].set_ylabel('Embedding Distances / $\\lambda$', fontsize=20)\n",
    "\n",
    "ax[1].hist(hyp_emb['sig'], color ='cornflowerblue') #cornflowerblue, lightcoral\n",
    "ax[1].set_xlabel('Embedding Uncertainties', fontsize=20)"
   ]
  },
  {
   "cell_type": "code",
   "execution_count": null,
   "id": "f868e06d",
   "metadata": {},
   "outputs": [],
   "source": [
    "hyp_emb"
   ]
  },
  {
   "cell_type": "code",
   "execution_count": 86,
   "id": "7ea16b78",
   "metadata": {},
   "outputs": [],
   "source": [
    "hyperbolic_df= pd.DataFrame(hyp_emb['pcoords'], columns=['x', 'y', 'z'])\n",
    "\n"
   ]
  },
  {
   "cell_type": "code",
   "execution_count": 87,
   "id": "09b7a13f",
   "metadata": {},
   "outputs": [
    {
     "data": {
      "application/vnd.plotly.v1+json": {
       "config": {
        "plotlyServerURL": "https://plot.ly"
       },
       "data": [
        {
         "hovertemplate": "x=%{x}<br>y=%{y}<br>z=%{z}<extra></extra>",
         "legendgroup": "",
         "marker": {
          "color": "cornflowerblue",
          "symbol": "circle"
         },
         "mode": "markers",
         "name": "",
         "scene": "scene",
         "showlegend": false,
         "type": "scatter3d",
         "x": [
          0.06191982913395224,
          0.06130275487069846,
          0.06191510692875869,
          0.061956259950750756,
          0.061511733612284306,
          0.06198253780949412,
          0.061487023136703615,
          0.060807738250811545,
          0.06073974844432216,
          0.060707331138931425,
          0.06125739913461527,
          0.06100285679560353,
          0.06070020830817959,
          0.06178956243053795,
          0.06086633174983296,
          0.061090110853582784,
          0.0608697870182591,
          0.061806854359982594,
          0.0617513029635991,
          0.06178987521178748,
          0.061925585657931645,
          0.061739342160570566,
          0.061676760466291836,
          0.061333377959232924,
          0.06191566651866919,
          0.06103843842005372,
          0.06196467810042463,
          0.06109372865508815,
          0.061418861880228395,
          0.06065038793173412,
          0.06112088772684451,
          0.06191321767961417,
          0.061305801854599926,
          0.0618531259326802,
          0.061985926606168675,
          0.061030186283513047,
          0.0614881414229954,
          0.061450401165029096,
          0.06113417977066918,
          0.06185571972550544,
          0.0618007117890233,
          0.06068784079915195,
          0.06142659061613652,
          0.061722052228780945,
          0.06173166754868631,
          0.0618119303760004,
          0.06160318486706519,
          0.06129195342367126,
          0.061631282255319046,
          0.061497896097291394,
          0.06077880814983146,
          0.06136428114100276,
          0.06107657031669308,
          0.06069485307868712,
          0.06190309355503816,
          0.06166987485856866,
          0.060744968438913874,
          0.06173720275546815,
          0.061354415167860034,
          0.0613888821602982,
          0.061765854013560606,
          0.06177599938875492,
          0.061472007867012214,
          0.06154800353454073,
          0.06101734163303223,
          0.06140074760633339,
          0.061820861265931455,
          0.06149397430674336,
          0.060891569820400455,
          0.06156941707081742,
          0.061589685794751194,
          0.06110180845518336,
          0.06163173486070297,
          0.06175234026645294,
          0.06162035253259993,
          0.06191420989856396,
          0.06175579865810784,
          0.061732094706458074,
          0.061708042034779496,
          0.06162768023192161,
          0.06148634604512017,
          0.061676393725261715,
          0.06166840024683371,
          0.06159878044807037,
          0.06181022858846681,
          0.06197871976900028,
          0.061167987154198,
          0.06080397644939033,
          0.06143564111339073,
          0.061647950699448235,
          0.06160322383044742,
          0.06162560770117674,
          0.060810907644978054,
          0.06155806089997098,
          0.061808652398837746,
          0.061767324306009785,
          0.060677648872691656,
          0.061705769915328335,
          0.061856558591951716,
          0.06122483734992872,
          0.06107384862258866,
          0.06115996771984902,
          0.06157990282360819,
          0.06148443581377366,
          0.06146020446142352,
          0.061509752254947835,
          0.061318852620104315,
          0.060761292976261747,
          0.060710158238172156,
          0.06162804711534624,
          0.061733363088307895,
          0.061317841868367,
          0.061957354565059436,
          0.06095002997200343,
          0.06139420564009919,
          0.06144085531659684,
          0.06168016550808637,
          0.06176201646835633,
          0.06149563536323651,
          0.06076033018528303,
          0.06071712562971572,
          0.06179105445609059,
          0.06089907272461334,
          0.061660566246922656,
          0.06126269506324811,
          0.06133372889925121,
          0.06119251713557272,
          0.06177759945559774,
          0.06127653283188553,
          0.06153765219028163,
          0.061084539968261076,
          0.061383655142604736,
          0.06161437667633991,
          0.06156445309518477,
          0.06175803992108304
         ],
         "y": [
          -0.30218844423913965,
          -0.3024483443394404,
          -0.3022020313484637,
          -0.3021852318313227,
          -0.30192457740874296,
          -0.3021820449869644,
          -0.30195988489358544,
          -0.302069341949561,
          -0.3021629390053311,
          -0.30211232338155736,
          -0.3024683735264174,
          -0.30205909623044014,
          -0.30219681277844346,
          -0.30211324524305033,
          -0.30223216700423083,
          -0.30238108405088276,
          -0.3023933310385477,
          -0.30216138150766486,
          -0.3023502867604811,
          -0.30234017859042683,
          -0.3021919264620301,
          -0.3018741120818393,
          -0.3018994869697462,
          -0.30170610187299135,
          -0.30218290952100196,
          -0.30215553401763884,
          -0.30215999555967726,
          -0.3025540845091128,
          -0.3018804889038617,
          -0.3023070161646672,
          -0.30184111403082753,
          -0.3020250505883192,
          -0.3018761461786742,
          -0.30237197984925046,
          -0.3021743919809962,
          -0.30221909189911844,
          -0.30221561344933784,
          -0.30193465907051653,
          -0.3020544903324525,
          -0.30198017166616836,
          -0.30213591814509416,
          -0.30211839695761866,
          -0.30173146251161354,
          -0.3019574110829242,
          -0.3017447262615386,
          -0.3024085855189482,
          -0.302507043586069,
          -0.3023857165025325,
          -0.3018537979959094,
          -0.30170265689411124,
          -0.3021173513554762,
          -0.302140048456323,
          -0.3022933345132076,
          -0.3020095827400681,
          -0.3024179488821822,
          -0.3017838291713026,
          -0.30217494206226775,
          -0.30219631140869563,
          -0.3019751369590872,
          -0.3024138778787371,
          -0.30211573037276246,
          -0.30209641177391183,
          -0.3024268865275373,
          -0.3021787399585625,
          -0.30262905293366743,
          -0.3022080516122192,
          -0.30221772687183374,
          -0.3025226034699493,
          -0.302479351394327,
          -0.3022760911988896,
          -0.30200529938347026,
          -0.3022178970188358,
          -0.3022541943687475,
          -0.3018777189464187,
          -0.30190556371201255,
          -0.3023822412724832,
          -0.3023572122438586,
          -0.30248541126101525,
          -0.3019716586826727,
          -0.30248360623941617,
          -0.3016952936884093,
          -0.3022485603570579,
          -0.30210531874346297,
          -0.30203018326229564,
          -0.30203196953174405,
          -0.30221740745200343,
          -0.3017726580507121,
          -0.30217240670611595,
          -0.3020449092830291,
          -0.30196656527521293,
          -0.30259095077408976,
          -0.3025324457281609,
          -0.3024076349080456,
          -0.3026685862161614,
          -0.3023903843700511,
          -0.30240603202486155,
          -0.3022390800458747,
          -0.3022917819892101,
          -0.30219002681455376,
          -0.3026626720044451,
          -0.30199272474608235,
          -0.3018380837865794,
          -0.3027551025851665,
          -0.30253073092948485,
          -0.30276670304693576,
          -0.3023456325340278,
          -0.3025390358936957,
          -0.30194387993157246,
          -0.30213088960185913,
          -0.30201719817398454,
          -0.30237334459938725,
          -0.3027243940760417,
          -0.3021507776472873,
          -0.3020571738589016,
          -0.30195362564282097,
          -0.30222397876560086,
          -0.30171725819703016,
          -0.30211133138889673,
          -0.30204614425982973,
          -0.3022545334124449,
          -0.3021338598539127,
          -0.3020434977918381,
          -0.30188966989543065,
          -0.30214317874740526,
          -0.3026490118045277,
          -0.3022487179753567,
          -0.30171665982594104,
          -0.3020802597775838,
          -0.30263210004548896,
          -0.3018882724680848,
          -0.3017594971231802,
          -0.3017016623314885,
          -0.30215200912512047,
          -0.3020559601063972,
          -0.3021519625078057
         ],
         "z": [
          -0.31469110699636343,
          -0.31542373778628957,
          -0.3147016524748672,
          -0.3147501289511306,
          -0.3152492461144951,
          -0.3147461545881154,
          -0.31459422680030663,
          -0.3153283114130125,
          -0.3153515937427724,
          -0.31531720513722356,
          -0.31541037812996636,
          -0.3154067814923959,
          -0.3153027409664432,
          -0.314557718163839,
          -0.31538530356624894,
          -0.31495785558843503,
          -0.315301284312574,
          -0.31465080564429626,
          -0.31529683514674967,
          -0.315217482237183,
          -0.3147008963765495,
          -0.3153029940303797,
          -0.3147173946387731,
          -0.3149114944386502,
          -0.31469167033298734,
          -0.3154310460040746,
          -0.31476525488170576,
          -0.31453786055910715,
          -0.31474355675666327,
          -0.31468571541233603,
          -0.31526394732611834,
          -0.3149525439764649,
          -0.3153122451211015,
          -0.31484934905826806,
          -0.31474941321055777,
          -0.3154180078850489,
          -0.3145098566663146,
          -0.3152787824488377,
          -0.31543588655677157,
          -0.31487953896041054,
          -0.3152038089290204,
          -0.3153184111814323,
          -0.3149170156294828,
          -0.3144823908263491,
          -0.31491145673180493,
          -0.31460764599582186,
          -0.31465558594477766,
          -0.31543411383959385,
          -0.3150867475957845,
          -0.315006709406486,
          -0.3153710272790938,
          -0.31540725009462484,
          -0.3150836129397908,
          -0.31465365525487,
          -0.31478664440594617,
          -0.3152565517554939,
          -0.3153394264500398,
          -0.3144708919133256,
          -0.31535331573383857,
          -0.31542406093952846,
          -0.31527618529358237,
          -0.3146154589684067,
          -0.3144613939932167,
          -0.3146044742961652,
          -0.31511907991384275,
          -0.31427223804863635,
          -0.31459592129839387,
          -0.3152992544180628,
          -0.31499399385716703,
          -0.3146815956494957,
          -0.31444899147169614,
          -0.3144365659827013,
          -0.3151530261825851,
          -0.3148191867402163,
          -0.3151323132412621,
          -0.3149885327900212,
          -0.31443678507546996,
          -0.31484318867572997,
          -0.31495444925506655,
          -0.3151096413578306,
          -0.3149293180672414,
          -0.3152841672032413,
          -0.3152215244155979,
          -0.31528078863992054,
          -0.3147712454530536,
          -0.31492485569316186,
          -0.3146299316053192,
          -0.3153854615551803,
          -0.31546614721350036,
          -0.3153064553186913,
          -0.31512605740303096,
          -0.3152480548467107,
          -0.3145295202952051,
          -0.31512015981717856,
          -0.31505215685175475,
          -0.3152003641532862,
          -0.314808165502643,
          -0.31520408656648347,
          -0.3149273570096598,
          -0.31506952045716347,
          -0.31514265428842103,
          -0.3149306941119477,
          -0.31479658566274177,
          -0.3149391809686998,
          -0.3146848982173071,
          -0.3153222460832441,
          -0.3152499243097292,
          -0.31491749738544716,
          -0.31529871455064296,
          -0.31490591591277917,
          -0.31511614301984786,
          -0.3146563818424403,
          -0.31484359520972155,
          -0.31542015094370746,
          -0.31543500005142155,
          -0.31538610813111845,
          -0.3150130721657711,
          -0.31495208120079554,
          -0.31528627047663776,
          -0.3145633665015813,
          -0.31454482628857305,
          -0.31510247350998216,
          -0.31474039515636615,
          -0.31520721643932914,
          -0.31521794851276064,
          -0.31544205367180583,
          -0.3148993830049193,
          -0.3150898864233281,
          -0.31484197452079515,
          -0.3151171292234281,
          -0.3151402003088343,
          -0.31512640290148897,
          -0.31532200763280077,
          -0.3152730280300942,
          -0.3151630038866104
         ]
        }
       ],
       "layout": {
        "legend": {
         "tracegroupgap": 0
        },
        "scene": {
         "domain": {
          "x": [
           0,
           1
          ],
          "y": [
           0,
           1
          ]
         },
         "xaxis": {
          "ticktext": [
           -1,
           -0.5,
           0,
           0.5,
           1
          ],
          "title": {
           "text": "x"
          }
         },
         "yaxis": {
          "ticktext": [
           -1,
           -0.5,
           0,
           0.5,
           1
          ],
          "title": {
           "text": "y"
          }
         },
         "zaxis": {
          "ticktext": [
           -1,
           -0.5,
           0,
           0.5,
           1
          ],
          "title": {
           "text": "z"
          }
         }
        },
        "template": {
         "data": {
          "bar": [
           {
            "error_x": {
             "color": "#2a3f5f"
            },
            "error_y": {
             "color": "#2a3f5f"
            },
            "marker": {
             "line": {
              "color": "#E5ECF6",
              "width": 0.5
             },
             "pattern": {
              "fillmode": "overlay",
              "size": 10,
              "solidity": 0.2
             }
            },
            "type": "bar"
           }
          ],
          "barpolar": [
           {
            "marker": {
             "line": {
              "color": "#E5ECF6",
              "width": 0.5
             },
             "pattern": {
              "fillmode": "overlay",
              "size": 10,
              "solidity": 0.2
             }
            },
            "type": "barpolar"
           }
          ],
          "carpet": [
           {
            "aaxis": {
             "endlinecolor": "#2a3f5f",
             "gridcolor": "white",
             "linecolor": "white",
             "minorgridcolor": "white",
             "startlinecolor": "#2a3f5f"
            },
            "baxis": {
             "endlinecolor": "#2a3f5f",
             "gridcolor": "white",
             "linecolor": "white",
             "minorgridcolor": "white",
             "startlinecolor": "#2a3f5f"
            },
            "type": "carpet"
           }
          ],
          "choropleth": [
           {
            "colorbar": {
             "outlinewidth": 0,
             "ticks": ""
            },
            "type": "choropleth"
           }
          ],
          "contour": [
           {
            "colorbar": {
             "outlinewidth": 0,
             "ticks": ""
            },
            "colorscale": [
             [
              0,
              "#0d0887"
             ],
             [
              0.1111111111111111,
              "#46039f"
             ],
             [
              0.2222222222222222,
              "#7201a8"
             ],
             [
              0.3333333333333333,
              "#9c179e"
             ],
             [
              0.4444444444444444,
              "#bd3786"
             ],
             [
              0.5555555555555556,
              "#d8576b"
             ],
             [
              0.6666666666666666,
              "#ed7953"
             ],
             [
              0.7777777777777778,
              "#fb9f3a"
             ],
             [
              0.8888888888888888,
              "#fdca26"
             ],
             [
              1,
              "#f0f921"
             ]
            ],
            "type": "contour"
           }
          ],
          "contourcarpet": [
           {
            "colorbar": {
             "outlinewidth": 0,
             "ticks": ""
            },
            "type": "contourcarpet"
           }
          ],
          "heatmap": [
           {
            "colorbar": {
             "outlinewidth": 0,
             "ticks": ""
            },
            "colorscale": [
             [
              0,
              "#0d0887"
             ],
             [
              0.1111111111111111,
              "#46039f"
             ],
             [
              0.2222222222222222,
              "#7201a8"
             ],
             [
              0.3333333333333333,
              "#9c179e"
             ],
             [
              0.4444444444444444,
              "#bd3786"
             ],
             [
              0.5555555555555556,
              "#d8576b"
             ],
             [
              0.6666666666666666,
              "#ed7953"
             ],
             [
              0.7777777777777778,
              "#fb9f3a"
             ],
             [
              0.8888888888888888,
              "#fdca26"
             ],
             [
              1,
              "#f0f921"
             ]
            ],
            "type": "heatmap"
           }
          ],
          "heatmapgl": [
           {
            "colorbar": {
             "outlinewidth": 0,
             "ticks": ""
            },
            "colorscale": [
             [
              0,
              "#0d0887"
             ],
             [
              0.1111111111111111,
              "#46039f"
             ],
             [
              0.2222222222222222,
              "#7201a8"
             ],
             [
              0.3333333333333333,
              "#9c179e"
             ],
             [
              0.4444444444444444,
              "#bd3786"
             ],
             [
              0.5555555555555556,
              "#d8576b"
             ],
             [
              0.6666666666666666,
              "#ed7953"
             ],
             [
              0.7777777777777778,
              "#fb9f3a"
             ],
             [
              0.8888888888888888,
              "#fdca26"
             ],
             [
              1,
              "#f0f921"
             ]
            ],
            "type": "heatmapgl"
           }
          ],
          "histogram": [
           {
            "marker": {
             "pattern": {
              "fillmode": "overlay",
              "size": 10,
              "solidity": 0.2
             }
            },
            "type": "histogram"
           }
          ],
          "histogram2d": [
           {
            "colorbar": {
             "outlinewidth": 0,
             "ticks": ""
            },
            "colorscale": [
             [
              0,
              "#0d0887"
             ],
             [
              0.1111111111111111,
              "#46039f"
             ],
             [
              0.2222222222222222,
              "#7201a8"
             ],
             [
              0.3333333333333333,
              "#9c179e"
             ],
             [
              0.4444444444444444,
              "#bd3786"
             ],
             [
              0.5555555555555556,
              "#d8576b"
             ],
             [
              0.6666666666666666,
              "#ed7953"
             ],
             [
              0.7777777777777778,
              "#fb9f3a"
             ],
             [
              0.8888888888888888,
              "#fdca26"
             ],
             [
              1,
              "#f0f921"
             ]
            ],
            "type": "histogram2d"
           }
          ],
          "histogram2dcontour": [
           {
            "colorbar": {
             "outlinewidth": 0,
             "ticks": ""
            },
            "colorscale": [
             [
              0,
              "#0d0887"
             ],
             [
              0.1111111111111111,
              "#46039f"
             ],
             [
              0.2222222222222222,
              "#7201a8"
             ],
             [
              0.3333333333333333,
              "#9c179e"
             ],
             [
              0.4444444444444444,
              "#bd3786"
             ],
             [
              0.5555555555555556,
              "#d8576b"
             ],
             [
              0.6666666666666666,
              "#ed7953"
             ],
             [
              0.7777777777777778,
              "#fb9f3a"
             ],
             [
              0.8888888888888888,
              "#fdca26"
             ],
             [
              1,
              "#f0f921"
             ]
            ],
            "type": "histogram2dcontour"
           }
          ],
          "mesh3d": [
           {
            "colorbar": {
             "outlinewidth": 0,
             "ticks": ""
            },
            "type": "mesh3d"
           }
          ],
          "parcoords": [
           {
            "line": {
             "colorbar": {
              "outlinewidth": 0,
              "ticks": ""
             }
            },
            "type": "parcoords"
           }
          ],
          "pie": [
           {
            "automargin": true,
            "type": "pie"
           }
          ],
          "scatter": [
           {
            "fillpattern": {
             "fillmode": "overlay",
             "size": 10,
             "solidity": 0.2
            },
            "type": "scatter"
           }
          ],
          "scatter3d": [
           {
            "line": {
             "colorbar": {
              "outlinewidth": 0,
              "ticks": ""
             }
            },
            "marker": {
             "colorbar": {
              "outlinewidth": 0,
              "ticks": ""
             }
            },
            "type": "scatter3d"
           }
          ],
          "scattercarpet": [
           {
            "marker": {
             "colorbar": {
              "outlinewidth": 0,
              "ticks": ""
             }
            },
            "type": "scattercarpet"
           }
          ],
          "scattergeo": [
           {
            "marker": {
             "colorbar": {
              "outlinewidth": 0,
              "ticks": ""
             }
            },
            "type": "scattergeo"
           }
          ],
          "scattergl": [
           {
            "marker": {
             "colorbar": {
              "outlinewidth": 0,
              "ticks": ""
             }
            },
            "type": "scattergl"
           }
          ],
          "scattermapbox": [
           {
            "marker": {
             "colorbar": {
              "outlinewidth": 0,
              "ticks": ""
             }
            },
            "type": "scattermapbox"
           }
          ],
          "scatterpolar": [
           {
            "marker": {
             "colorbar": {
              "outlinewidth": 0,
              "ticks": ""
             }
            },
            "type": "scatterpolar"
           }
          ],
          "scatterpolargl": [
           {
            "marker": {
             "colorbar": {
              "outlinewidth": 0,
              "ticks": ""
             }
            },
            "type": "scatterpolargl"
           }
          ],
          "scatterternary": [
           {
            "marker": {
             "colorbar": {
              "outlinewidth": 0,
              "ticks": ""
             }
            },
            "type": "scatterternary"
           }
          ],
          "surface": [
           {
            "colorbar": {
             "outlinewidth": 0,
             "ticks": ""
            },
            "colorscale": [
             [
              0,
              "#0d0887"
             ],
             [
              0.1111111111111111,
              "#46039f"
             ],
             [
              0.2222222222222222,
              "#7201a8"
             ],
             [
              0.3333333333333333,
              "#9c179e"
             ],
             [
              0.4444444444444444,
              "#bd3786"
             ],
             [
              0.5555555555555556,
              "#d8576b"
             ],
             [
              0.6666666666666666,
              "#ed7953"
             ],
             [
              0.7777777777777778,
              "#fb9f3a"
             ],
             [
              0.8888888888888888,
              "#fdca26"
             ],
             [
              1,
              "#f0f921"
             ]
            ],
            "type": "surface"
           }
          ],
          "table": [
           {
            "cells": {
             "fill": {
              "color": "#EBF0F8"
             },
             "line": {
              "color": "white"
             }
            },
            "header": {
             "fill": {
              "color": "#C8D4E3"
             },
             "line": {
              "color": "white"
             }
            },
            "type": "table"
           }
          ]
         },
         "layout": {
          "annotationdefaults": {
           "arrowcolor": "#2a3f5f",
           "arrowhead": 0,
           "arrowwidth": 1
          },
          "autotypenumbers": "strict",
          "coloraxis": {
           "colorbar": {
            "outlinewidth": 0,
            "ticks": ""
           }
          },
          "colorscale": {
           "diverging": [
            [
             0,
             "#8e0152"
            ],
            [
             0.1,
             "#c51b7d"
            ],
            [
             0.2,
             "#de77ae"
            ],
            [
             0.3,
             "#f1b6da"
            ],
            [
             0.4,
             "#fde0ef"
            ],
            [
             0.5,
             "#f7f7f7"
            ],
            [
             0.6,
             "#e6f5d0"
            ],
            [
             0.7,
             "#b8e186"
            ],
            [
             0.8,
             "#7fbc41"
            ],
            [
             0.9,
             "#4d9221"
            ],
            [
             1,
             "#276419"
            ]
           ],
           "sequential": [
            [
             0,
             "#0d0887"
            ],
            [
             0.1111111111111111,
             "#46039f"
            ],
            [
             0.2222222222222222,
             "#7201a8"
            ],
            [
             0.3333333333333333,
             "#9c179e"
            ],
            [
             0.4444444444444444,
             "#bd3786"
            ],
            [
             0.5555555555555556,
             "#d8576b"
            ],
            [
             0.6666666666666666,
             "#ed7953"
            ],
            [
             0.7777777777777778,
             "#fb9f3a"
            ],
            [
             0.8888888888888888,
             "#fdca26"
            ],
            [
             1,
             "#f0f921"
            ]
           ],
           "sequentialminus": [
            [
             0,
             "#0d0887"
            ],
            [
             0.1111111111111111,
             "#46039f"
            ],
            [
             0.2222222222222222,
             "#7201a8"
            ],
            [
             0.3333333333333333,
             "#9c179e"
            ],
            [
             0.4444444444444444,
             "#bd3786"
            ],
            [
             0.5555555555555556,
             "#d8576b"
            ],
            [
             0.6666666666666666,
             "#ed7953"
            ],
            [
             0.7777777777777778,
             "#fb9f3a"
            ],
            [
             0.8888888888888888,
             "#fdca26"
            ],
            [
             1,
             "#f0f921"
            ]
           ]
          },
          "colorway": [
           "#636efa",
           "#EF553B",
           "#00cc96",
           "#ab63fa",
           "#FFA15A",
           "#19d3f3",
           "#FF6692",
           "#B6E880",
           "#FF97FF",
           "#FECB52"
          ],
          "font": {
           "color": "#2a3f5f"
          },
          "geo": {
           "bgcolor": "white",
           "lakecolor": "white",
           "landcolor": "#E5ECF6",
           "showlakes": true,
           "showland": true,
           "subunitcolor": "white"
          },
          "hoverlabel": {
           "align": "left"
          },
          "hovermode": "closest",
          "mapbox": {
           "style": "light"
          },
          "paper_bgcolor": "white",
          "plot_bgcolor": "#E5ECF6",
          "polar": {
           "angularaxis": {
            "gridcolor": "white",
            "linecolor": "white",
            "ticks": ""
           },
           "bgcolor": "#E5ECF6",
           "radialaxis": {
            "gridcolor": "white",
            "linecolor": "white",
            "ticks": ""
           }
          },
          "scene": {
           "xaxis": {
            "backgroundcolor": "#E5ECF6",
            "gridcolor": "white",
            "gridwidth": 2,
            "linecolor": "white",
            "showbackground": true,
            "ticks": "",
            "zerolinecolor": "white"
           },
           "yaxis": {
            "backgroundcolor": "#E5ECF6",
            "gridcolor": "white",
            "gridwidth": 2,
            "linecolor": "white",
            "showbackground": true,
            "ticks": "",
            "zerolinecolor": "white"
           },
           "zaxis": {
            "backgroundcolor": "#E5ECF6",
            "gridcolor": "white",
            "gridwidth": 2,
            "linecolor": "white",
            "showbackground": true,
            "ticks": "",
            "zerolinecolor": "white"
           }
          },
          "shapedefaults": {
           "line": {
            "color": "#2a3f5f"
           }
          },
          "ternary": {
           "aaxis": {
            "gridcolor": "white",
            "linecolor": "white",
            "ticks": ""
           },
           "baxis": {
            "gridcolor": "white",
            "linecolor": "white",
            "ticks": ""
           },
           "bgcolor": "#E5ECF6",
           "caxis": {
            "gridcolor": "white",
            "linecolor": "white",
            "ticks": ""
           }
          },
          "title": {
           "x": 0.05
          },
          "xaxis": {
           "automargin": true,
           "gridcolor": "white",
           "linecolor": "white",
           "ticks": "",
           "title": {
            "standoff": 15
           },
           "zerolinecolor": "white",
           "zerolinewidth": 2
          },
          "yaxis": {
           "automargin": true,
           "gridcolor": "white",
           "linecolor": "white",
           "ticks": "",
           "title": {
            "standoff": 15
           },
           "zerolinecolor": "white",
           "zerolinewidth": 2
          }
         }
        },
        "title": {
         "text": "All Worms Bacterial Stimulus"
        }
       }
      }
     },
     "metadata": {},
     "output_type": "display_data"
    }
   ],
   "source": [
    "\n",
    "\n",
    "# Create a scatter plot\n",
    "fig = px.scatter_3d(data_frame = hyperbolic_df, x= 'x', y = 'y', z= 'z', title='All Worms Bacterial Stimulus',  color_discrete_sequence=['cornflowerblue']) #cornflowerblue, lightcoral\n",
    "fig.update_layout(\n",
    "    scene=dict(\n",
    "        xaxis=dict(ticktext=[-1, -0.5, 0, 0.5, 1]),\n",
    "        yaxis=dict(ticktext=[-1, -0.5, 0, 0.5, 1]),\n",
    "        zaxis=dict(ticktext=[-1, -0.5, 0, 0.5, 1]),\n",
    "    )\n",
    ")\n",
    "\n",
    "fig.show()"
   ]
  },
  {
   "cell_type": "markdown",
   "id": "b6080734",
   "metadata": {},
   "source": [
    "# Fitting For Dimension\n",
    "\n",
    "Suppose we did not know a-priori that the data was 5D? This is usually the case"
   ]
  },
  {
   "cell_type": "markdown",
   "id": "ea9e919b",
   "metadata": {},
   "source": [
    "## Fit the model across a range of dimensions"
   ]
  },
  {
   "cell_type": "code",
   "execution_count": 114,
   "id": "0ffeb563",
   "metadata": {},
   "outputs": [
    {
     "name": "stderr",
     "output_type": "stream",
     "text": [
      "20:18:50 - cmdstanpy - INFO - Chain [1] start processing\n",
      "20:18:59 - cmdstanpy - INFO - Chain [1] done processing\n",
      "20:18:59 - cmdstanpy - WARNING - The default behavior of CmdStanMLE.stan_variable() will change in a future release to always return a numpy.ndarray, even for scalar variables.\n",
      "20:18:59 - cmdstanpy - INFO - Chain [1] start processing\n",
      "20:19:40 - cmdstanpy - INFO - Chain [1] done processing\n",
      "20:19:40 - cmdstanpy - WARNING - The default behavior of CmdStanMLE.stan_variable() will change in a future release to always return a numpy.ndarray, even for scalar variables.\n",
      "20:19:40 - cmdstanpy - INFO - Chain [1] start processing\n",
      "20:19:54 - cmdstanpy - INFO - Chain [1] done processing\n",
      "20:19:54 - cmdstanpy - WARNING - The default behavior of CmdStanMLE.stan_variable() will change in a future release to always return a numpy.ndarray, even for scalar variables.\n",
      "20:19:54 - cmdstanpy - INFO - Chain [1] start processing\n",
      "20:20:18 - cmdstanpy - INFO - Chain [1] done processing\n",
      "20:20:18 - cmdstanpy - WARNING - The default behavior of CmdStanMLE.stan_variable() will change in a future release to always return a numpy.ndarray, even for scalar variables.\n",
      "20:20:18 - cmdstanpy - INFO - Chain [1] start processing\n",
      "20:21:00 - cmdstanpy - INFO - Chain [1] done processing\n",
      "20:21:00 - cmdstanpy - WARNING - The default behavior of CmdStanMLE.stan_variable() will change in a future release to always return a numpy.ndarray, even for scalar variables.\n",
      "20:21:00 - cmdstanpy - INFO - Chain [1] start processing\n",
      "20:22:01 - cmdstanpy - INFO - Chain [1] done processing\n",
      "20:22:01 - cmdstanpy - WARNING - The default behavior of CmdStanMLE.stan_variable() will change in a future release to always return a numpy.ndarray, even for scalar variables.\n",
      "20:22:01 - cmdstanpy - INFO - Chain [1] start processing\n",
      "20:22:14 - cmdstanpy - INFO - Chain [1] done processing\n",
      "20:22:14 - cmdstanpy - WARNING - The default behavior of CmdStanMLE.stan_variable() will change in a future release to always return a numpy.ndarray, even for scalar variables.\n",
      "20:22:14 - cmdstanpy - INFO - Chain [1] start processing\n",
      "20:22:24 - cmdstanpy - INFO - Chain [1] done processing\n",
      "20:22:24 - cmdstanpy - WARNING - The default behavior of CmdStanMLE.stan_variable() will change in a future release to always return a numpy.ndarray, even for scalar variables.\n",
      "20:22:24 - cmdstanpy - INFO - Chain [1] start processing\n",
      "20:22:35 - cmdstanpy - INFO - Chain [1] done processing\n",
      "20:22:35 - cmdstanpy - WARNING - The default behavior of CmdStanMLE.stan_variable() will change in a future release to always return a numpy.ndarray, even for scalar variables.\n",
      "20:22:35 - cmdstanpy - INFO - Chain [1] start processing\n",
      "20:22:46 - cmdstanpy - INFO - Chain [1] done processing\n",
      "20:22:46 - cmdstanpy - WARNING - The default behavior of CmdStanMLE.stan_variable() will change in a future release to always return a numpy.ndarray, even for scalar variables.\n",
      "20:22:46 - cmdstanpy - INFO - Chain [1] start processing\n",
      "20:23:03 - cmdstanpy - INFO - Chain [1] done processing\n",
      "20:23:03 - cmdstanpy - WARNING - The default behavior of CmdStanMLE.stan_variable() will change in a future release to always return a numpy.ndarray, even for scalar variables.\n",
      "20:23:03 - cmdstanpy - INFO - Chain [1] start processing\n",
      "20:23:22 - cmdstanpy - INFO - Chain [1] done processing\n",
      "20:23:22 - cmdstanpy - WARNING - The default behavior of CmdStanMLE.stan_variable() will change in a future release to always return a numpy.ndarray, even for scalar variables.\n",
      "20:23:22 - cmdstanpy - INFO - Chain [1] start processing\n",
      "20:23:33 - cmdstanpy - INFO - Chain [1] done processing\n",
      "20:23:33 - cmdstanpy - WARNING - The default behavior of CmdStanMLE.stan_variable() will change in a future release to always return a numpy.ndarray, even for scalar variables.\n"
     ]
    }
   ],
   "source": [
    "all_fits = []\n",
    "for d in np.arange(2,15):\n",
    "    dat={'N':135, 'D':d, 'deltaij':distance_matrix}\n",
    "    #run optimizer\n",
    "    model = ltz_m.optimize(data=dat, iter=250000, algorithm='LBFGS', tol_rel_grad=1e2)\n",
    "    all_fits.append({'euc':model.euc, 'sig':model.sig, 'lambda':model.stan_variable('lambda'), 't':model.time})"
   ]
  },
  {
   "cell_type": "code",
   "execution_count": 89,
   "id": "c6ddd178",
   "metadata": {},
   "outputs": [
    {
     "name": "stderr",
     "output_type": "stream",
     "text": [
      "23:37:36 - cmdstanpy - WARNING - The default behavior of CmdStanMLE.stan_variable() will change in a future release to always return a numpy.ndarray, even for scalar variables.\n"
     ]
    },
    {
     "data": {
      "text/plain": [
       "0.0131072"
      ]
     },
     "execution_count": 89,
     "metadata": {},
     "output_type": "execute_result"
    }
   ],
   "source": [
    "model.stan_variable('lambda')"
   ]
  },
  {
   "cell_type": "code",
   "execution_count": 104,
   "id": "09e53bbb",
   "metadata": {},
   "outputs": [
    {
     "data": {
      "text/plain": [
       "array([1.12689, 1.1251 , 1.12687, 1.12687, 1.1255 , 1.12697, 1.12656,\n",
       "       1.12591, 1.12582, 1.1259 , 1.12511, 1.12532, 1.12585, 1.1269 ,\n",
       "       1.12568, 1.126  , 1.12592, 1.12665, 1.1255 , 1.12606, 1.1269 ,\n",
       "       1.12659, 1.12642, 1.12608, 1.1269 , 1.12522, 1.12684, 1.1275 ,\n",
       "       1.12613, 1.12776, 1.12601, 1.12658, 1.12565, 1.12652, 1.12698,\n",
       "       1.1254 , 1.12709, 1.12529, 1.12525, 1.12631, 1.12601, 1.12595,\n",
       "       1.12587, 1.12735, 1.12711, 1.12711, 1.12749, 1.12519, 1.12591,\n",
       "       1.12635, 1.12568, 1.12507, 1.12563, 1.12739, 1.12692, 1.12665,\n",
       "       1.1257 , 1.12725, 1.12526, 1.12508, 1.12566, 1.12663, 1.12785,\n",
       "       1.12687, 1.12675, 1.12797, 1.12698, 1.12533, 1.12632, 1.1269 ,\n",
       "       1.12709, 1.12808, 1.12557, 1.12714, 1.12548, 1.12654, 1.12762,\n",
       "       1.12649, 1.12587, 1.12554, 1.12575, 1.12552, 1.12558, 1.12527,\n",
       "       1.12657, 1.12689, 1.12688, 1.12565, 1.12551, 1.12519, 1.12634,\n",
       "       1.12583, 1.12816, 1.12628, 1.12591, 1.12616, 1.12711, 1.12562,\n",
       "       1.12614, 1.12675, 1.12547, 1.12597, 1.12714, 1.1266 , 1.12759,\n",
       "       1.12554, 1.1258 , 1.12655, 1.12594, 1.12592, 1.12569, 1.12802,\n",
       "       1.12677, 1.12525, 1.12603, 1.12501, 1.12685, 1.12593, 1.12543,\n",
       "       1.12767, 1.12761, 1.126  , 1.12667, 1.12549, 1.12623, 1.125  ,\n",
       "       1.12583, 1.12583, 1.1274 , 1.12547, 1.12546, 1.12574, 1.1253 ,\n",
       "       1.12531, 1.1259 ])"
      ]
     },
     "execution_count": 104,
     "metadata": {},
     "output_type": "execute_result"
    }
   ],
   "source": [
    "#access the correct iteration \n",
    "iteration = all_fits[5]['t']\n",
    "\n",
    "\n",
    "iteration"
   ]
  },
  {
   "cell_type": "code",
   "execution_count": 105,
   "id": "c69f3521",
   "metadata": {},
   "outputs": [
    {
     "data": {
      "text/plain": [
       "(135,)"
      ]
     },
     "execution_count": 105,
     "metadata": {},
     "output_type": "execute_result"
    }
   ],
   "source": [
    "model.time.shape"
   ]
  },
  {
   "cell_type": "code",
   "execution_count": 106,
   "id": "cadc132e",
   "metadata": {},
   "outputs": [],
   "source": [
    "#calculate radii based on time parameter\n",
    "radii = np.arccosh(iteration)"
   ]
  },
  {
   "cell_type": "code",
   "execution_count": 93,
   "id": "963b2e19",
   "metadata": {},
   "outputs": [
    {
     "data": {
      "text/plain": [
       "array([0.47524407, 0.47055713, 0.47522379, 0.47504132, 0.47135539,\n",
       "       0.47508187, 0.47349739, 0.4673288 , 0.46712237, 0.46706042,\n",
       "       0.47035221, 0.46813297, 0.46718431, 0.47530487, 0.46753514,\n",
       "       0.47092574, 0.46800935, 0.47520352, 0.47245829, 0.47264184,\n",
       "       0.47522379, 0.47192761, 0.47400585, 0.47121222, 0.47522379,\n",
       "       0.46831834, 0.47498047, 0.47196845, 0.47256027, 0.46883283,\n",
       "       0.46907958, 0.47380254, 0.47092574, 0.47469643, 0.47504132,\n",
       "       0.46838011, 0.47355843, 0.47090527, 0.46872998, 0.47420908,\n",
       "       0.47282531, 0.46695715, 0.47211138, 0.47453404, 0.47280493,\n",
       "       0.4753454 , 0.47376186, 0.4703727 , 0.47233588, 0.47188676,\n",
       "       0.46724624, 0.4703932 , 0.4703932 , 0.46926454, 0.47481819,\n",
       "       0.47196845, 0.46724624, 0.47542646, 0.47031121, 0.47082338,\n",
       "       0.47221344, 0.47516298, 0.47353809, 0.47345668, 0.46946997,\n",
       "       0.4743919 , 0.47538593, 0.47184591, 0.46953158, 0.47394487,\n",
       "       0.47469643, 0.47178462, 0.47274378, 0.47388388, 0.47241749,\n",
       "       0.47351774, 0.47556827, 0.47451374, 0.47355843, 0.47321239,\n",
       "       0.47241749, 0.47229507, 0.47237669, 0.47184591, 0.47453404,\n",
       "       0.47424971, 0.47155984, 0.4673288 , 0.47131449, 0.47227467,\n",
       "       0.47223385, 0.47241749, 0.47008567, 0.47233588, 0.47347704,\n",
       "       0.47229507, 0.46877113, 0.47284569, 0.47414812, 0.47024971,\n",
       "       0.46977793, 0.47076195, 0.47341598, 0.47215221, 0.47321239,\n",
       "       0.47129404, 0.47065955, 0.46846246, 0.46718431, 0.47372118,\n",
       "       0.47341598, 0.47239709, 0.47461524, 0.46796813, 0.47008567,\n",
       "       0.47090527, 0.47235629, 0.4739652 , 0.47113039, 0.47002414,\n",
       "       0.46988054, 0.47300871, 0.47000363, 0.47243789, 0.47047517,\n",
       "       0.47053664, 0.47115085, 0.47321239, 0.47100761, 0.47217262,\n",
       "       0.46951104, 0.47227467, 0.47178462, 0.47180505, 0.47284569])"
      ]
     },
     "execution_count": 93,
     "metadata": {},
     "output_type": "execute_result"
    }
   ],
   "source": [
    "radii"
   ]
  },
  {
   "cell_type": "code",
   "execution_count": 107,
   "id": "f44e7938",
   "metadata": {},
   "outputs": [
    {
     "data": {
      "text/plain": [
       "Text(0.5, 0, 'Hyperbolic Embedding Radii')"
      ]
     },
     "execution_count": 107,
     "metadata": {},
     "output_type": "execute_result"
    },
    {
     "data": {
      "image/png": "[encoded data removed]",
      "text/plain": [
       "<Figure size 1500x750 with 1 Axes>"
      ]
     },
     "metadata": {},
     "output_type": "display_data"
    }
   ],
   "source": [
    "#Histogram of radii\n",
    "fig, ax = plt.subplots(figsize=(15,7.5))\n",
    "\n",
    "ax.hist(radii, color ='cornflowerblue') #cornflowerblue, lightcoral\n",
    "ax.set_xlabel('Hyperbolic Embedding Radii', fontsize=20)"
   ]
  },
  {
   "cell_type": "code",
   "execution_count": 96,
   "id": "75c766bc",
   "metadata": {},
   "outputs": [],
   "source": [
    "#DIP analysis of radii\n",
    "dip, pval = diptest.diptest(radii)"
   ]
  },
  {
   "cell_type": "code",
   "execution_count": 97,
   "id": "2ac64e08",
   "metadata": {},
   "outputs": [
    {
     "data": {
      "text/plain": [
       "(0.023741562861925133, 0.9005797759390655)"
      ]
     },
     "execution_count": 97,
     "metadata": {},
     "output_type": "execute_result"
    }
   ],
   "source": [
    "dip, pval"
   ]
  },
  {
   "cell_type": "code",
   "execution_count": 98,
   "id": "31b674d5",
   "metadata": {},
   "outputs": [
    {
     "data": {
      "text/plain": [
       "array([0.0312781, 0.133698 , 0.0313371, 0.0319219, 0.0380231, 0.0341452,\n",
       "       0.284036 , 0.0496468, 0.0356457, 0.0351329, 0.117345 , 0.0600037,\n",
       "       0.0389562, 0.129449 , 0.0451258, 0.227927 , 0.0746844, 0.0707353,\n",
       "       0.162583 , 0.137537 , 0.0310579, 0.230686 , 0.135166 , 0.158313 ,\n",
       "       0.0314098, 0.0335716, 0.0326609, 0.29445  , 0.251129 , 0.35766  ,\n",
       "       0.128803 , 0.066682 , 0.165825 , 0.0322698, 0.0344864, 0.0351179,\n",
       "       0.254489 , 0.0433734, 0.0467636, 0.0511121, 0.100757 , 0.033821 ,\n",
       "       0.133317 , 0.170845 , 0.177418 , 0.0765132, 0.220215 , 0.160805 ,\n",
       "       0.0497133, 0.142043 , 0.0328981, 0.0762182, 0.181831 , 0.330641 ,\n",
       "       0.0692738, 0.217397 , 0.0406243, 0.166388 , 0.0436824, 0.106984 ,\n",
       "       0.158867 , 0.115275 , 0.296613 , 0.206945 , 0.188708 , 0.368612 ,\n",
       "       0.0731841, 0.157363 , 0.180951 , 0.208284 , 0.252114 , 0.422606 ,\n",
       "       0.0764391, 0.159361 , 0.0548393, 0.157991 , 0.166697 , 0.096502 ,\n",
       "       0.0638199, 0.0912884, 0.123406 , 0.063859 , 0.0397046, 0.0473866,\n",
       "       0.07871  , 0.10072  , 0.245514 , 0.0420539, 0.184641 , 0.127627 ,\n",
       "       0.128052 , 0.12631  , 0.392803 , 0.122515 , 0.0709322, 0.145042 ,\n",
       "       0.294408 , 0.0538521, 0.0516161, 0.19466  , 0.118902 , 0.182516 ,\n",
       "       0.173225 , 0.286092 , 0.216259 , 0.0534667, 0.0949586, 0.18459  ,\n",
       "       0.0370154, 0.130845 , 0.049961 , 0.280143 , 0.0364175, 0.0555635,\n",
       "       0.175877 , 0.0697736, 0.166117 , 0.0710609, 0.0926818, 0.390945 ,\n",
       "       0.394706 , 0.0570583, 0.361062 , 0.042014 , 0.149988 , 0.147504 ,\n",
       "       0.157882 , 0.0533093, 0.381664 , 0.095212 , 0.0899374, 0.278739 ,\n",
       "       0.0577444, 0.0530266, 0.0601554])"
      ]
     },
     "execution_count": 98,
     "metadata": {},
     "output_type": "execute_result"
    }
   ],
   "source": [
    "all_fits[0]['sig']"
   ]
  },
  {
   "cell_type": "code",
   "execution_count": 99,
   "id": "2793645c",
   "metadata": {},
   "outputs": [],
   "source": [
    "#return negative log likelihood of fit\n",
    "def MDS_lkl(fit, dmat):\n",
    "    lkl = 0;\n",
    "    N = fit['sig'].shape[0]\n",
    "    \n",
    "    sigs = fit['sig']\n",
    "    lam = fit['lambda']\n",
    "    emb_mat = get_embed_dmat(fit)\n",
    "    \n",
    "    for i in np.arange(N):\n",
    "        for j in np.arange(i+1, N):\n",
    "            seff = sigs[i]**2 + sigs[j]**2\n",
    "            lkl += ((dmat[i][j] - emb_mat[i][j]/lam)**2 / (2.0*seff)) + 0.5*np.log(seff*2.0*np.pi)\n",
    "    return lkl\n",
    "\n",
    "#input: optimization fit and distance matrix\n",
    "def BIC(fit, dmat):\n",
    "    N,D = fit['euc'].shape\n",
    "    n = 0.5*N*(N-1)\n",
    "    k = N*D + N + 1.0 - 0.5*D*(D-1)\n",
    "    \n",
    "    return k*np.log(n) + 2.0*MDS_lkl(fit, dmat)"
   ]
  },
  {
   "cell_type": "markdown",
   "id": "e7ccab40",
   "metadata": {},
   "source": [
    "## Bayesian information criteria\n",
    "\n",
    "There is a lot of formal Bayesian Theory behind this (see chapter 2 here https://urldefense.proofpoint.com/v2/url?u=https-3A__www.inference.org.uk_mackay_thesis.pdf&d=DwIGAg&c=-35OiAkTchMrZOngvJPOeA&r=B8GeUuyHfxQP8MseZuhipQ&m=KVww4gh9-XOtp1LqNUc0K-PGXOX3bm2QsokPFlBG9Vs&s=UBtNEdIXatq_zFpG53nmPCLbCnlgIgWigHYhEnBRYyo&e= ), but essentially we are trying to find the minimal number of parameters to describe a dataset. If the data is 5D, we don't want to use 7 parameters to describe it. The BIC is like a cost function that rewards a model that has a better fit to the likelihood function, but penalizes models that increase the number of their parameters. The model which minimizes this function will thus have the ideal trade-off of being able to model the data well without introducing too many parameters and overfitting the data."
   ]
  },
  {
   "cell_type": "code",
   "execution_count": 113,
   "id": "f3688551",
   "metadata": {},
   "outputs": [],
   "source": [
    "all_BIC = [BIC(fit, distance_matrix) for fit in all_fits]"
   ]
  },
  {
   "cell_type": "code",
   "execution_count": 102,
   "id": "b1160cc0",
   "metadata": {},
   "outputs": [
    {
     "data": {
      "text/plain": [
       "[-2173.525954201521,\n",
       " -8021.255635386334,\n",
       " -12454.565164432148,\n",
       " -14314.154214395625,\n",
       " -15144.033848869232,\n",
       " -15391.191880804787,\n",
       " -15114.092187026581,\n",
       " -14412.219062365255,\n",
       " -13636.169863097204,\n",
       " -12801.898902776416,\n",
       " -11881.880607017829,\n",
       " -10897.05090627474,\n",
       " -9891.598996319954]"
      ]
     },
     "execution_count": 102,
     "metadata": {},
     "output_type": "execute_result"
    }
   ],
   "source": [
    "all_BIC"
   ]
  },
  {
   "cell_type": "markdown",
   "id": "daae8d10",
   "metadata": {},
   "source": [
    "As you can see the BIC is minimized at the true dimension of 5. Any more parameters would have been redundant, any less would not have properly fit the data"
   ]
  },
  {
   "cell_type": "code",
   "execution_count": 103,
   "id": "c3160255",
   "metadata": {},
   "outputs": [
    {
     "data": {
      "text/plain": [
       "Text(0, 0.5, 'BIC')"
      ]
     },
     "execution_count": 103,
     "metadata": {},
     "output_type": "execute_result"
    },
    {
     "data": {
      "image/png": "[encoded data removed]",
      "text/plain": [
       "<Figure size 750x750 with 1 Axes>"
      ]
     },
     "metadata": {},
     "output_type": "display_data"
    }
   ],
   "source": [
    "fig, ax = plt.subplots(figsize=(7.5,7.5))\n",
    "\n",
    "ax.scatter(np.arange(2,15), all_BIC, c = 'cornflowerblue') #cornflowerblue, lightcoral\n",
    "ax.set_xlabel('Dimension', fontsize=20)\n",
    "ax.set_ylabel('BIC', fontsize=20)"
   ]
  },
  {
   "cell_type": "markdown",
   "id": "ce171280",
   "metadata": {},
   "source": [
    "# Re-Running the optimizer\n",
    "Lets start by generating some 2D data"
   ]
  },
  {
   "cell_type": "code",
   "execution_count": null,
   "id": "6159dca9",
   "metadata": {},
   "outputs": [],
   "source": [
    "#generate 100 data points uniformly distributed in 5 dimensional hyperbolic space of radius R=4\n",
    "dim=2; R=4.0;\n",
    "n=100\n",
    "dirs = stats.norm.rvs(size=(n, dim))\n",
    "dirs = (dirs.T/np.sqrt(np.sum(np.square(dirs), axis=1))).T\n",
    "U = stats.uniform.rvs(size=n)\n",
    "rs_p = np.tanh(np.log((1-np.exp(-R))/np.exp(-R)*(U) + 1.0)/2.0)\n",
    "p_coords = rs_p.reshape(-1,1)*dirs\n",
    "\n",
    "#add noise to the computed distance matrix to simulate a more realistic dataset\n",
    "mat_2D = get_dmat(p_coords) + 0.05*R*stats.norm.rvs(size=(n,n))\n",
    "for i in np.arange(n):\n",
    "    for j in np.arange(i+1, n):\n",
    "        mat_2D[j][i] = mat_2D[i][j]\n",
    "mat_2D = 2.0*mat_2D/np.max(mat_2D)"
   ]
  },
  {
   "cell_type": "code",
   "execution_count": null,
   "id": "9f65f1d2",
   "metadata": {},
   "outputs": [],
   "source": [
    "#dictionary to specify input to simulation\n",
    "dat={'N':100, 'D':2, 'deltaij':mat_2D}\n",
    "#run optimizer\n",
    "model2D = ltz_m.optimize(data=dat, iter=250000, algorithm='LBFGS', tol_rel_grad=1e2)\n",
    "hyp_emb2D = {'euc':model2D.euc, 'sig':model2D.sig, 'lambda':model2D.stan_variable('lambda')}"
   ]
  },
  {
   "cell_type": "code",
   "execution_count": null,
   "id": "546b43c3",
   "metadata": {},
   "outputs": [],
   "source": [
    "process_sim(hyp_emb2D)"
   ]
  },
  {
   "cell_type": "markdown",
   "id": "77ed16b6",
   "metadata": {},
   "source": [
    "#### Most pts are well fit, but a few are poorly fit (the ones with high sigma) which adds a lot of scatter to the shepard diagram\n",
    "#### The optimizer got caught in a false minimum"
   ]
  },
  {
   "cell_type": "code",
   "execution_count": null,
   "id": "bb8c2124",
   "metadata": {},
   "outputs": [],
   "source": [
    "fig, ax = plt.subplots(1, 2, figsize=(15,7.5))\n",
    "\n",
    "ax[0].scatter(mat_2D[np.triu_indices(100, k=1)], hyp_emb2D['emb_mat'][np.triu_indices(100, k=1)])\n",
    "ax[0].plot(np.arange(3), np.arange(3), c='black', linewidth=5, alpha=0.5)\n",
    "\n",
    "ax[0].set_xlabel('Original Distances', fontsize=20)\n",
    "ax[0].set_ylabel('Embedding Distances / $\\lambda$', fontsize=20)\n",
    "\n",
    "ax[1].hist(hyp_emb2D['sig'])\n",
    "ax[1].set_xlabel('Embedding Uncertainties', fontsize=20)"
   ]
  },
  {
   "cell_type": "markdown",
   "id": "23edc498",
   "metadata": {},
   "source": [
    "### Strategy: randomize the positions of the poorly fit points, and then return the coordinates as the initial conditions to continue optimizing. This bumps the simulation out of the false minimium without destroying all of the work its already done"
   ]
  },
  {
   "cell_type": "code",
   "execution_count": null,
   "id": "e47006a6",
   "metadata": {},
   "outputs": [],
   "source": [
    "#figure out which pts have high uncertainty, and randomize their coordinates without touching the rest of the points\n",
    "N_refit = np.where(hyp_emb2D['sig'] > 0.3)[0].shape[0]\n",
    "hyp_emb2D['euc'][np.where(hyp_emb2D['sig'] > 0.3)] = stats.norm.rvs(size=(N_refit,2))"
   ]
  },
  {
   "cell_type": "code",
   "execution_count": null,
   "id": "44aa4765",
   "metadata": {},
   "outputs": [],
   "source": [
    "#re-reun the optimizer, but this time sepcify the initial condition by passing the previous simulation dictionary\n",
    "dat={'N':100, 'D':2, 'deltaij':mat_2D}\n",
    "model2D = ltz_m.optimize(data=dat, iter=250000, algorithm='LBFGS', tol_rel_grad=1e2,inits = hyp_emb2D)\n",
    "hyp_emb2D = {'euc':model2D.euc, 'sig':model2D.sig, 'lambda':model2D.stan_variable('lambda')}\n",
    "# tst_2D = ltz_m.optimizing(data=dat, iter=250000, tol_rel_grad=1e2, init=tst_2D)"
   ]
  },
  {
   "cell_type": "code",
   "execution_count": null,
   "id": "4dc911c9",
   "metadata": {},
   "outputs": [],
   "source": [
    "process_sim(hyp_emb2D)"
   ]
  },
  {
   "cell_type": "markdown",
   "id": "b28b534e",
   "metadata": {},
   "source": [
    "### We see that the fit is significantly better, although there are still a few poorly fit points. We could keep iterating the above process until all points are well fit."
   ]
  },
  {
   "cell_type": "code",
   "execution_count": null,
   "id": "9f3fa17a",
   "metadata": {},
   "outputs": [],
   "source": [
    "fig, ax = plt.subplots(1, 2, figsize=(15,7.5))\n",
    "\n",
    "ax[0].scatter(mat_2D[np.triu_indices(100, k=1)], hyp_emb2D['emb_mat'][np.triu_indices(100, k=1)])\n",
    "ax[0].plot(np.arange(3), np.arange(3), c='black', linewidth=5, alpha=0.5)\n",
    "\n",
    "ax[0].set_xlabel('Original Distances', fontsize=20)\n",
    "ax[0].set_ylabel('Embedding Distances / $\\lambda$', fontsize=20)\n",
    "\n",
    "ax[1].hist(hyp_emb2D['sig'])\n",
    "ax[1].set_xlabel('Embedding Uncertainties', fontsize=20)"
   ]
  }
 ],
 "metadata": {
  "kernelspec": {
   "display_name": "HMDS",
   "language": "python",
   "name": "python3"
  },
  "language_info": {
   "codemirror_mode": {
    "name": "ipython",
    "version": 3
   },
   "file_extension": ".py",
   "mimetype": "text/x-python",
   "name": "python",
   "nbconvert_exporter": "python",
   "pygments_lexer": "ipython3",
   "version": "3.10.14"
  }
 },
 "nbformat": 4,
 "nbformat_minor": 5
}
